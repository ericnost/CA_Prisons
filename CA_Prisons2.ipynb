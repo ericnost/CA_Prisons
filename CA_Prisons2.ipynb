{
 "cells": [
  {
   "cell_type": "code",
   "execution_count": null,
   "metadata": {
    "tags": []
   },
   "outputs": [],
   "source": [
    "!git clone https://github.com/edgi-govdata-archiving/ECHO_modules.git -b get_by_ee\n",
    "!git clone https://github.com/shansen5/CA_Prisons.git\n",
    "print( 'Done!' )"
   ]
  },
  {
   "cell_type": "code",
   "execution_count": null,
   "metadata": {},
   "outputs": [],
   "source": [
    "%run ECHO_modules/DataSet.py\n",
    "%run ECHO_modules/make_data_sets.py"
   ]
  },
  {
   "cell_type": "markdown",
   "metadata": {},
   "source": [
    "### 1. Read the local spreadsheet with the carceral facilities"
   ]
  },
  {
   "cell_type": "code",
   "execution_count": null,
   "metadata": {},
   "outputs": [],
   "source": [
    "carc_data  = pd.read_csv( \"CA_Prisons/reformatted_fixed_GG_manual_coding_hifld_prisons_to_FRS.csv\", encoding='iso-8859-1',\n",
    "                 dtype={\"Total_FRS_IDS\": \"Int64\"} )\n",
    "registry_ids = carc_data['Total_FRS_IDS'].dropna().unique()\n",
    "print( \"Number of records in CSV = {}, number of non-NA ids = {}\".format( len(carc_data), len(registry_ids)))\n"
   ]
  },
  {
   "cell_type": "markdown",
   "metadata": {},
   "source": [
    "### 2. Look up the facilities in ECHO_EXPORTER.  The records found will be written to ECHO_EXPORTER-CA_Carceral.csv."
   ]
  },
  {
   "cell_type": "markdown",
   "metadata": {},
   "source": [
    "If you have run this notebook before and have the ECHO_EXPORTER-CA_Carceral.csv file\n",
    "already generated, you can use the following cell to read it directly and\n",
    "save some time compared to the full database query.  If you don't have the\n",
    "CSV file, skip to the next cell to get the data from the database."
   ]
  },
  {
   "cell_type": "code",
   "execution_count": null,
   "metadata": {},
   "outputs": [],
   "source": [
    "echo_data = pd.read_csv( \"ECHO_EXPORTER-CA_Carceral.csv\" )\n",
    "echo_data.set_index( 'REGISTRY_ID', inplace=True)"
   ]
  },
  {
   "cell_type": "code",
   "execution_count": null,
   "metadata": {
    "scrolled": false
   },
   "outputs": [],
   "source": [
    "id_list = []\n",
    "for id in registry_ids:\n",
    "    id_list.append( id )\n",
    "    \n",
    "ds = DataSet( name=\"exporter\", base_table=\"ECHO_EXPORTER\",\n",
    "            table_name=\"ECHO_EXPORTER\", echo_type=None, idx_field=\"REGISTRY_ID\" )\n",
    "echo_data = ds.get_data_by_ee_ids( id_list )\n",
    "\n",
    "echo_data.to_csv( \"ECHO_EXPORTER-CA_Carceral.csv\")"
   ]
  },
  {
   "cell_type": "markdown",
   "metadata": {},
   "source": [
    "### 3. Look up the facilities in the program data sets.  The records found will be written to CSV files for each data set."
   ]
  },
  {
   "cell_type": "code",
   "execution_count": null,
   "metadata": {
    "scrolled": false,
    "tags": [
     "outputPrepend"
    ]
   },
   "outputs": [],
   "source": [
    "data_set_list = ['RCRA Violations', 'RCRA Inspections', 'RCRA Penalties',\n",
    "                 'CAA Violations', 'CAA Inspections', 'CAA Penalties', \n",
    "                 'Greenhouse Gas Emissions', 'Toxic Releases',\n",
    "                 'CWA Violations', 'CWA Inspections', 'CWA Penalties',\n",
    "                 'SDWA Violations', 'SDWA Serious Violators', 'SDWA Site Visits',\n",
    "                 'SDWA Enforcements', ] \n",
    "# You can run an individual data set, or just a few, by un-commenting and\n",
    "# editing the following\n",
    "# data_set_list = ['CWA Violations']\n",
    "data_sets = make_data_sets( data_set_list )\n",
    "last_flag = ''\n",
    "pgm_ids = None\n",
    "for pgm_name,ds in data_sets.items():\n",
    "    print( pgm_name )\n",
    "    if ( ds.echo_type == 'SDWA' ):\n",
    "        echo_flag = 'SDWIS_FLAG'\n",
    "    else:\n",
    "        echo_flag = ds.echo_type + '_FLAG'\n",
    "    # If the flag hasn't changed, the pgm_ids will still be the same.\n",
    "    # Getting the pgm_ids from the echo_data's REGISTRY_ID takes a\n",
    "    # long time, so we skip it if we can.\n",
    "    if ( last_flag != echo_flag ):\n",
    "        r_ids = echo_data[ echo_data[ echo_flag ] == 'Y' ].index\n",
    "        pgm_ids = ds.get_pgm_ids( r_ids )\n",
    "        last_flag = echo_flag\n",
    "    program_data = ds.get_data_by_pgm_ids( pgm_ids )\n",
    "    if ( program_data is not None):\n",
    "        program_data.to_csv( pgm_name+'.csv' )"
   ]
  },
  {
   "cell_type": "code",
   "execution_count": null,
   "metadata": {},
   "outputs": [],
   "source": []
  }
 ],
 "metadata": {
  "kernelspec": {
   "display_name": "Python 3",
   "language": "python",
   "name": "python3"
  },
  "language_info": {
   "codemirror_mode": {
    "name": "ipython",
    "version": 3
   },
   "file_extension": ".py",
   "mimetype": "text/x-python",
   "name": "python",
   "nbconvert_exporter": "python",
   "pygments_lexer": "ipython3",
   "version": "3.7.7"
  }
 },
 "nbformat": 4,
 "nbformat_minor": 4
}
