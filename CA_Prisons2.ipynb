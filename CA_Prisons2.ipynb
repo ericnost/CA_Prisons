{
 "cells": [
  {
   "cell_type": "code",
   "execution_count": null,
   "metadata": {},
   "outputs": [],
   "source": [
    "!git clone https://github.com/shansen5/CA_Prisons.git\n",
    "!git clone https://github.com/edgi-govdata-archiving/ECHO_modules.git\n",
    "!git clone https://github.com/edgi-govdata-archiving/ECHO-Cross-Program.git\n",
    "print( 'Done!' )"
   ]
  },
  {
   "cell_type": "code",
   "execution_count": null,
   "metadata": {},
   "outputs": [],
   "source": [
    "%run ECHO_modules/DataSet.py\n",
    "%run ECHO-Cross-Program/utilities.py\n",
    "%run ECHO-Cross-Program/make_data_sets.py"
   ]
  },
  {
   "cell_type": "markdown",
   "metadata": {},
   "source": [
    "### 1. Read the local spreadsheet with the carceral facilities"
   ]
  },
  {
   "cell_type": "code",
   "execution_count": null,
   "metadata": {},
   "outputs": [],
   "source": [
    "echo_data = pd.read_csv( \"ECHO_EXPORTER-CA_Carceral.csv\", encoding='iso-8859-1',\n",
    "                 dtype={\"REGISTRY_ID\": \"Int64\"} )\n",
    "echo_data.set_index( \"REGISTRY_ID\", inplace=True )"
   ]
  },
  {
   "cell_type": "markdown",
   "metadata": {},
   "source": [
    "### 2. Process the facilities through the data sets to get program data."
   ]
  },
  {
   "cell_type": "code",
   "execution_count": null,
   "metadata": {},
   "outputs": [],
   "source": [
    "data_sets = make_data_sets()\n",
    "for pgm_name,ds in data_sets.items():\n",
    "    print( pgm_name )\n",
    "    program_data = pd.DataFrame( get_program_data( ds, echo_data ))\n",
    "    if ( len( program_data )):\n",
    "        program_data.to_csv( 'Out/' + pgm_name+'.csv' )"
   ]
  },
  {
   "cell_type": "markdown",
   "metadata": {},
   "source": [
    "### 3. Use this section of cells to see if a single facility is in the ECHO_EXPORTER table."
   ]
  },
  {
   "cell_type": "code",
   "execution_count": null,
   "metadata": {},
   "outputs": [],
   "source": [
    "id_widget = widgets.IntText(description='ID to find:', disabled=False)\n",
    "display( id_widget )"
   ]
  },
  {
   "cell_type": "code",
   "execution_count": null,
   "metadata": {},
   "outputs": [],
   "source": [
    "sql = \"select * from ECHO_EXPORTER where REGISTRY_ID='{}'\".format( str( id_widget.value ))\n",
    "echo_data = get_data( sql )\n",
    "echo_data"
   ]
  },
  {
   "cell_type": "markdown",
   "metadata": {},
   "source": [
    "### 4. If the facility is in ECHO_EXPORTER, you can run cell labeled 2 to see if there is data for the facility in any of the program data sets."
   ]
  },
  {
   "cell_type": "code",
   "execution_count": null,
   "metadata": {},
   "outputs": [],
   "source": []
  }
 ],
 "metadata": {
  "kernelspec": {
   "display_name": "Python 3",
   "language": "python",
   "name": "python3"
  },
  "language_info": {
   "codemirror_mode": {
    "name": "ipython",
    "version": 3
   },
   "file_extension": ".py",
   "mimetype": "text/x-python",
   "name": "python",
   "nbconvert_exporter": "python",
   "pygments_lexer": "ipython3",
   "version": "3.7.6"
  }
 },
 "nbformat": 4,
 "nbformat_minor": 4
}
