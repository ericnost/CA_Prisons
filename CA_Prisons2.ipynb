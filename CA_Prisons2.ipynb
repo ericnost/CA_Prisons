{
 "cells": [
  {
   "cell_type": "code",
   "execution_count": null,
   "metadata": {
    "tags": []
   },
   "outputs": [],
   "source": [
    "!git clone https://github.com/edgi-govdata-archiving/ECHO_modules.git -b get_by_ee\n",
    "print( 'Done!' )"
   ]
  },
  {
   "cell_type": "code",
   "execution_count": null,
   "metadata": {},
   "outputs": [],
   "source": [
    "%run ECHO_modules/DataSet.py\n",
    "%run ECHO_modules/make_data_sets.py"
   ]
  },
  {
   "cell_type": "markdown",
   "metadata": {},
   "source": [
    "### 1. Read the local spreadsheet with the carceral facilities"
   ]
  },
  {
   "cell_type": "code",
   "execution_count": null,
   "metadata": {},
   "outputs": [],
   "source": [
    "carc_data  = pd.read_csv( \"reformatted_ca_validated.csv\", encoding='iso-8859-1',\n",
    "                 dtype={\"Total_FRS_IDS\": \"Int64\"} )\n",
    "registry_ids = carc_data['Total_FRS_IDS'].dropna().unique()\n",
    "print( \"Number of records in CSV = {}, number of non-NA ids = {}\".format( len(carc_data), len(registry_ids)))\n",
    "\n"
   ]
  },
  {
   "cell_type": "markdown",
   "metadata": {},
   "source": [
    "### 2. Look up the facilities in ECHO_EXPORTER"
   ]
  },
  {
   "cell_type": "code",
   "execution_count": null,
   "metadata": {},
   "outputs": [],
   "source": [
    "id_list = []\n",
    "for id in registry_ids:\n",
    "    id_list.append( id )\n",
    "    \n",
    "ds = DataSet( name=\"exporter\", base_table=\"ECHO_EXPORTER\",\n",
    "            table_name=\"ECHO_EXPORTER\", echo_type=None, idx_field=\"REGISTRY_ID\" )\n",
    "echo_data = ds.get_data_by_ee_ids( id_list )\n",
    "\n",
    "echo_data.to_csv( \"ECHO_EXPORTER-CA_Carceral.csv\")"
   ]
  },
  {
   "cell_type": "markdown",
   "metadata": {},
   "source": [
    "### 3. Look up the facilities in the program data sets"
   ]
  },
  {
   "cell_type": "code",
   "execution_count": null,
   "metadata": {
    "tags": [
     "outputPrepend"
    ]
   },
   "outputs": [],
   "source": [
    "data_sets = make_data_sets()\n",
    "for pgm_name,ds in data_sets.items():\n",
    "    if ( ds.echo_type == 'SDWA' ):\n",
    "        echo_flag = 'SDWIS_FLAG'\n",
    "    else:\n",
    "        echo_flag = ds.echo_type + '_FLAG'\n",
    "    r_ids = echo_data[ echo_data[ echo_flag ] == 'Y' ].index\n",
    "    print( pgm_name )\n",
    "    program_data = ds.get_data_by_ee_ids( r_ids )\n",
    "    if ( program_data is not None):\n",
    "        program_data.to_csv( pgm_name+'.csv' )"
   ]
  },
  {
   "cell_type": "markdown",
   "metadata": {},
   "source": [
    "### 4. Use this section of cells to see if a single facility is in the ECHO_EXPORTER table.  Search for it by its REGISTRY_ID"
   ]
  },
  {
   "cell_type": "code",
   "execution_count": null,
   "metadata": {},
   "outputs": [],
   "source": [
    "import ipywidgets as widgets\n",
    "from ipywidgets import interact, interactive, fixed, interact_manual, Layout\n",
    "\n",
    "id_widget = widgets.IntText(description='ID to find:', disabled=False)\n",
    "display( id_widget )"
   ]
  },
  {
   "cell_type": "code",
   "execution_count": null,
   "metadata": {},
   "outputs": [],
   "source": [
    "sql = 'select * from \"ECHO_EXPORTER\" where \"REGISTRY_ID\"=\\'{}\\''.format( str( id_widget.value ))\n",
    "echo_data = get_data( sql )\n",
    "echo_data"
   ]
  },
  {
   "cell_type": "markdown",
   "metadata": {},
   "source": [
    "### 5. If the facility is in ECHO_EXPORTER, it should be found in the CSV files generated in step 3."
   ]
  },
  {
   "cell_type": "code",
   "execution_count": null,
   "metadata": {},
   "outputs": [],
   "source": []
  }
 ],
 "metadata": {
  "kernelspec": {
   "display_name": "Python 3",
   "language": "python",
   "name": "python3"
  },
  "language_info": {
   "codemirror_mode": {
    "name": "ipython",
    "version": 3
   },
   "file_extension": ".py",
   "mimetype": "text/x-python",
   "name": "python",
   "nbconvert_exporter": "python",
   "pygments_lexer": "ipython3",
   "version": "3.7.6"
  }
 },
 "nbformat": 4,
 "nbformat_minor": 4
}
